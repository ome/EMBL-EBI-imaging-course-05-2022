{
 "cells": [
  {
   "cell_type": "markdown",
   "id": "1d6fb394",
   "metadata": {},
   "source": [
    "# Solutions to the exercises from the [Dask notebook](0_Dask.ipynb)"
   ]
  },
  {
   "cell_type": "markdown",
   "id": "3f02938f",
   "metadata": {},
   "source": [
    "## Exercise: Run plane segmentation in parallel using ``dask.delayed`` "
   ]
  },
  {
   "cell_type": "markdown",
   "id": "d05c03ee",
   "metadata": {},
   "source": [
    "Create a pseudo Z-stack of dimension (10, 100, 100) (ZYX)"
   ]
  },
  {
   "cell_type": "code",
   "execution_count": 10,
   "id": "79aade86",
   "metadata": {},
   "outputs": [
    {
     "name": "stdout",
     "output_type": "stream",
     "text": [
      "(10, 100, 100)\n"
     ]
    }
   ],
   "source": [
    "import dask.array as da\n",
    "planes = da.random.random((10, 100, 100), chunks=(2, 10, 10))\n",
    "print(planes.shape)"
   ]
  },
  {
   "cell_type": "markdown",
   "id": "58312102",
   "metadata": {},
   "source": [
    "Create a function ``analyze`` taking the z-section as a parameter.\n",
    "Return the label_image and the z-section so we can identify when we parse the results."
   ]
  },
  {
   "cell_type": "code",
   "execution_count": 11,
   "id": "658bf64c",
   "metadata": {},
   "outputs": [],
   "source": [
    "import dask\n",
    "import dask_image.ndfilters\n",
    "import dask_image.ndmeasure\n",
    "\n",
    "def analyze(z):\n",
    "    plane = planes[z, :, :]\n",
    "    smoothed_image = dask_image.ndfilters.gaussian_filter(plane, sigma=[1, 1])\n",
    "    threshold_value = 0.33 * da.max(smoothed_image).compute()\n",
    "    threshold_image = smoothed_image > threshold_value\n",
    "    label_image, num_labels = dask_image.ndmeasure.label(threshold_image)\n",
    "    name = \"z:%s\" % (z)\n",
    "    return label_image, name"
   ]
  },
  {
   "cell_type": "markdown",
   "id": "3d53d62a",
   "metadata": {},
   "source": [
    "Segment every plane across the z-stack:\n",
    " * First we prepare the graph\n",
    " * The we compute"
   ]
  },
  {
   "cell_type": "code",
   "execution_count": 12,
   "id": "32f30703",
   "metadata": {},
   "outputs": [],
   "source": [
    "from dask import delayed\n",
    "\n",
    "lazy_results = []\n",
    "for z in range(planes.shape[0]):\n",
    "    r = delayed(analyze)(z)\n",
    "    lazy_results.append(r)"
   ]
  },
  {
   "cell_type": "code",
   "execution_count": 13,
   "id": "0d35f6d5",
   "metadata": {},
   "outputs": [
    {
     "name": "stdout",
     "output_type": "stream",
     "text": [
      "CPU times: user 6.41 s, sys: 427 ms, total: 6.84 s\n",
      "Wall time: 6.58 s\n"
     ]
    }
   ],
   "source": [
    "%time results = dask.compute(*lazy_results)"
   ]
  },
  {
   "cell_type": "markdown",
   "id": "88ba2d40",
   "metadata": {},
   "source": [
    "View the results"
   ]
  },
  {
   "cell_type": "code",
   "execution_count": 15,
   "id": "5098186a",
   "metadata": {},
   "outputs": [
    {
     "data": {
      "application/vnd.jupyter.widget-view+json": {
       "model_id": "df5050e2c906413ba74da2be4a03c144",
       "version_major": 2,
       "version_minor": 0
      },
      "text/plain": [
       "interactive(children=(IntSlider(value=0, continuous_update=False, description='Select Plane', max=9), Output()…"
      ]
     },
     "metadata": {},
     "output_type": "display_data"
    },
    {
     "data": {
      "text/plain": [
       "<function __main__.display(i=0)>"
      ]
     },
     "execution_count": 15,
     "metadata": {},
     "output_type": "execute_result"
    }
   ],
   "source": [
    "import matplotlib.pyplot as plt\n",
    "%matplotlib inline\n",
    "from ipywidgets import *\n",
    "\n",
    "def display(i=0):\n",
    "    r, name = results[i]\n",
    "    fig = plt.figure(figsize=(10, 10))\n",
    "    plt.subplot(121)\n",
    "    plt.imshow(r)\n",
    "    plt.title(name)\n",
    "    fig.canvas.flush_events()\n",
    "\n",
    "interact(display, i= widgets.IntSlider(value=0, min=0, max=len(results)-1, step=1, description=\"Select Plane\", continuous_update=False))\n"
   ]
  },
  {
   "cell_type": "markdown",
   "id": "0f4e75f2",
   "metadata": {},
   "source": [
    "## Exercise: Run plane segmentation in parallel using a ``Cluster`` "
   ]
  },
  {
   "cell_type": "markdown",
   "id": "338af1aa",
   "metadata": {},
   "source": [
    "Create a pseudo Z-stack of dimension (10, 100, 100) (ZYX)"
   ]
  },
  {
   "cell_type": "code",
   "execution_count": 16,
   "id": "036ed3d0",
   "metadata": {},
   "outputs": [
    {
     "name": "stdout",
     "output_type": "stream",
     "text": [
      "(10, 100, 100)\n"
     ]
    }
   ],
   "source": [
    "planes = da.random.random((10, 100, 100), chunks=(2, 10, 10))\n",
    "print(planes.shape)"
   ]
  },
  {
   "cell_type": "markdown",
   "id": "e294016f",
   "metadata": {},
   "source": [
    "Create a function ``analyze`` taking the z-section as a parameter.\n",
    "Return the label_image and the z-section so we can identify when we parse the results."
   ]
  },
  {
   "cell_type": "code",
   "execution_count": null,
   "id": "0c021f36",
   "metadata": {},
   "outputs": [],
   "source": [
    "def analyze(z):\n",
    "    plane = planes[z, :, :]\n",
    "    smoothed_image = dask_image.ndfilters.gaussian_filter(plane, sigma=[1, 1])\n",
    "    threshold_value = 0.33 * da.max(smoothed_image).compute()\n",
    "    threshold_image = smoothed_image > threshold_value\n",
    "    label_image, num_labels = dask_image.ndmeasure.label(threshold_image)\n",
    "    name = \"z:%s\" % (z)\n",
    "    return label_image, name"
   ]
  },
  {
   "cell_type": "markdown",
   "id": "91f3549f",
   "metadata": {},
   "source": [
    "Prepare the call"
   ]
  },
  {
   "cell_type": "code",
   "execution_count": null,
   "id": "a97d813d",
   "metadata": {},
   "outputs": [],
   "source": [
    "def prepare_call(client, dim_z):\n",
    "    futures = []\n",
    "    for z in range(dim_z):\n",
    "        futures.append(client.submit(analyze, z))\n",
    "    return futures"
   ]
  },
  {
   "cell_type": "markdown",
   "id": "d839e521",
   "metadata": {},
   "source": [
    "Create a default local cluster"
   ]
  },
  {
   "cell_type": "code",
   "execution_count": 17,
   "id": "d4c96ddc",
   "metadata": {},
   "outputs": [],
   "source": [
    "from dask.distributed import Client, LocalCluster"
   ]
  },
  {
   "cell_type": "code",
   "execution_count": null,
   "id": "27258824",
   "metadata": {},
   "outputs": [],
   "source": [
    "cluster = LocalCluster()\n",
    "\n",
    "with Client(cluster) as client:\n",
    "    # perform code\n",
    "    futures = prepare_call(clien, planes.shape[0])\n",
    "    results = client.gather(futures)"
   ]
  }
 ],
 "metadata": {
  "kernelspec": {
   "display_name": "imaging_course",
   "language": "python",
   "name": "imaging_course"
  },
  "language_info": {
   "codemirror_mode": {
    "name": "ipython",
    "version": 3
   },
   "file_extension": ".py",
   "mimetype": "text/x-python",
   "name": "python",
   "nbconvert_exporter": "python",
   "pygments_lexer": "ipython3",
   "version": "3.9.12"
  }
 },
 "nbformat": 4,
 "nbformat_minor": 5
}
