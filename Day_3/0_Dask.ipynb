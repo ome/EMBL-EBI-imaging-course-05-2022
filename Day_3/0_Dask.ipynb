{
 "cells": [
  {
   "cell_type": "markdown",
   "id": "2539f3ab",
   "metadata": {},
   "source": [
    "# What is Dask\n",
    "\n",
    "* [Dask](https://dask.org/) is a free and open-source parallel computing library that scales the existing Python ecosystem.\n",
    "* Dask helps you scale your data science and machine learning workflows. \n",
    "* Dask makes it easy to work with Numpy, pandas, and Scikit-Learn etc.\n",
    "* Dask is a framework to build distributed applications.\n",
    "* Dask can scale down to your laptop and up to a cluster. We will use today on an environment you can set up on your computer.\n",
    "\n",
    "\n",
    "Dask can be split into **two components**:\n",
    "\n",
    "* **Collections**:  \n",
    "\n",
    "Dask provides high-level Array, Bag, and DataFrame collections that mimic NumPy, lists, and Pandas. The advantage is that in can run in parallel on data that cannot fit in memory.\n",
    "* **Schedulers**:\n",
    "\n",
    "Dask provides schedulers to run the tasks in parallel"
   ]
  },
  {
   "cell_type": "markdown",
   "id": "0f726c7e",
   "metadata": {},
   "source": [
    "## Examples\n",
    "We will go over some concepts of Dask that we will need today."
   ]
  },
  {
   "cell_type": "markdown",
   "id": "fd3f66d0",
   "metadata": {},
   "source": [
    "### Dask Array\n",
    "\n",
    "Dask arrays combine many [NumPy](https://numpy.org/) arrays, arranged into chunks within a grid"
   ]
  },
  {
   "cell_type": "markdown",
   "id": "6c8efbba",
   "metadata": {},
   "source": [
    "Create an array of numbers represented by several NumPy arrays of size 10x10 (the arrays will be smaller if they cannot be divided evenly)."
   ]
  },
  {
   "cell_type": "code",
   "execution_count": 66,
   "id": "d93f2200",
   "metadata": {},
   "outputs": [
    {
     "data": {
      "text/html": [
       "<table>\n",
       "    <tr>\n",
       "        <td>\n",
       "            <table>\n",
       "                <thead>\n",
       "                    <tr>\n",
       "                        <td> </td>\n",
       "                        <th> Array </th>\n",
       "                        <th> Chunk </th>\n",
       "                    </tr>\n",
       "                </thead>\n",
       "                <tbody>\n",
       "                    \n",
       "                    <tr>\n",
       "                        <th> Bytes </th>\n",
       "                        <td> 78.12 kiB </td>\n",
       "                        <td> 800 B </td>\n",
       "                    </tr>\n",
       "                    \n",
       "                    <tr>\n",
       "                        <th> Shape </th>\n",
       "                        <td> (100, 100) </td>\n",
       "                        <td> (10, 10) </td>\n",
       "                    </tr>\n",
       "                    <tr>\n",
       "                        <th> Count </th>\n",
       "                        <td> 100 Tasks </td>\n",
       "                        <td> 100 Chunks </td>\n",
       "                    </tr>\n",
       "                    <tr>\n",
       "                    <th> Type </th>\n",
       "                    <td> float64 </td>\n",
       "                    <td> numpy.ndarray </td>\n",
       "                    </tr>\n",
       "                </tbody>\n",
       "            </table>\n",
       "        </td>\n",
       "        <td>\n",
       "        <svg width=\"170\" height=\"170\" style=\"stroke:rgb(0,0,0);stroke-width:1\" >\n",
       "\n",
       "  <!-- Horizontal lines -->\n",
       "  <line x1=\"0\" y1=\"0\" x2=\"120\" y2=\"0\" style=\"stroke-width:2\" />\n",
       "  <line x1=\"0\" y1=\"12\" x2=\"120\" y2=\"12\" />\n",
       "  <line x1=\"0\" y1=\"24\" x2=\"120\" y2=\"24\" />\n",
       "  <line x1=\"0\" y1=\"36\" x2=\"120\" y2=\"36\" />\n",
       "  <line x1=\"0\" y1=\"48\" x2=\"120\" y2=\"48\" />\n",
       "  <line x1=\"0\" y1=\"60\" x2=\"120\" y2=\"60\" />\n",
       "  <line x1=\"0\" y1=\"72\" x2=\"120\" y2=\"72\" />\n",
       "  <line x1=\"0\" y1=\"84\" x2=\"120\" y2=\"84\" />\n",
       "  <line x1=\"0\" y1=\"96\" x2=\"120\" y2=\"96\" />\n",
       "  <line x1=\"0\" y1=\"108\" x2=\"120\" y2=\"108\" />\n",
       "  <line x1=\"0\" y1=\"120\" x2=\"120\" y2=\"120\" style=\"stroke-width:2\" />\n",
       "\n",
       "  <!-- Vertical lines -->\n",
       "  <line x1=\"0\" y1=\"0\" x2=\"0\" y2=\"120\" style=\"stroke-width:2\" />\n",
       "  <line x1=\"12\" y1=\"0\" x2=\"12\" y2=\"120\" />\n",
       "  <line x1=\"24\" y1=\"0\" x2=\"24\" y2=\"120\" />\n",
       "  <line x1=\"36\" y1=\"0\" x2=\"36\" y2=\"120\" />\n",
       "  <line x1=\"48\" y1=\"0\" x2=\"48\" y2=\"120\" />\n",
       "  <line x1=\"60\" y1=\"0\" x2=\"60\" y2=\"120\" />\n",
       "  <line x1=\"72\" y1=\"0\" x2=\"72\" y2=\"120\" />\n",
       "  <line x1=\"84\" y1=\"0\" x2=\"84\" y2=\"120\" />\n",
       "  <line x1=\"96\" y1=\"0\" x2=\"96\" y2=\"120\" />\n",
       "  <line x1=\"108\" y1=\"0\" x2=\"108\" y2=\"120\" />\n",
       "  <line x1=\"120\" y1=\"0\" x2=\"120\" y2=\"120\" style=\"stroke-width:2\" />\n",
       "\n",
       "  <!-- Colored Rectangle -->\n",
       "  <polygon points=\"0.0,0.0 120.0,0.0 120.0,120.0 0.0,120.0\" style=\"fill:#ECB172A0;stroke-width:0\"/>\n",
       "\n",
       "  <!-- Text -->\n",
       "  <text x=\"60.000000\" y=\"140.000000\" font-size=\"1.0rem\" font-weight=\"100\" text-anchor=\"middle\" >100</text>\n",
       "  <text x=\"140.000000\" y=\"60.000000\" font-size=\"1.0rem\" font-weight=\"100\" text-anchor=\"middle\" transform=\"rotate(-90,140.000000,60.000000)\">100</text>\n",
       "</svg>\n",
       "        </td>\n",
       "    </tr>\n",
       "</table>"
      ],
      "text/plain": [
       "dask.array<random_sample, shape=(100, 100), dtype=float64, chunksize=(10, 10), chunktype=numpy.ndarray>"
      ]
     },
     "execution_count": 66,
     "metadata": {},
     "output_type": "execute_result"
    }
   ],
   "source": [
    "import dask.array as da\n",
    "x = da.random.random((100, 100), chunks=(10, 10))\n",
    "x"
   ]
  },
  {
   "cell_type": "markdown",
   "id": "f3e3a50b",
   "metadata": {},
   "source": [
    "Use NumPy syntax for operations with Dask arrays"
   ]
  },
  {
   "cell_type": "code",
   "execution_count": 67,
   "id": "c617c061",
   "metadata": {},
   "outputs": [
    {
     "data": {
      "text/html": [
       "<table>\n",
       "    <tr>\n",
       "        <td>\n",
       "            <table>\n",
       "                <thead>\n",
       "                    <tr>\n",
       "                        <td> </td>\n",
       "                        <th> Array </th>\n",
       "                        <th> Chunk </th>\n",
       "                    </tr>\n",
       "                </thead>\n",
       "                <tbody>\n",
       "                    \n",
       "                    <tr>\n",
       "                        <th> Bytes </th>\n",
       "                        <td> 400 B </td>\n",
       "                        <td> 40 B </td>\n",
       "                    </tr>\n",
       "                    \n",
       "                    <tr>\n",
       "                        <th> Shape </th>\n",
       "                        <td> (50,) </td>\n",
       "                        <td> (5,) </td>\n",
       "                    </tr>\n",
       "                    <tr>\n",
       "                        <th> Count </th>\n",
       "                        <td> 430 Tasks </td>\n",
       "                        <td> 10 Chunks </td>\n",
       "                    </tr>\n",
       "                    <tr>\n",
       "                    <th> Type </th>\n",
       "                    <td> float64 </td>\n",
       "                    <td> numpy.ndarray </td>\n",
       "                    </tr>\n",
       "                </tbody>\n",
       "            </table>\n",
       "        </td>\n",
       "        <td>\n",
       "        <svg width=\"170\" height=\"79\" style=\"stroke:rgb(0,0,0);stroke-width:1\" >\n",
       "\n",
       "  <!-- Horizontal lines -->\n",
       "  <line x1=\"0\" y1=\"0\" x2=\"120\" y2=\"0\" style=\"stroke-width:2\" />\n",
       "  <line x1=\"0\" y1=\"29\" x2=\"120\" y2=\"29\" style=\"stroke-width:2\" />\n",
       "\n",
       "  <!-- Vertical lines -->\n",
       "  <line x1=\"0\" y1=\"0\" x2=\"0\" y2=\"29\" style=\"stroke-width:2\" />\n",
       "  <line x1=\"12\" y1=\"0\" x2=\"12\" y2=\"29\" />\n",
       "  <line x1=\"24\" y1=\"0\" x2=\"24\" y2=\"29\" />\n",
       "  <line x1=\"36\" y1=\"0\" x2=\"36\" y2=\"29\" />\n",
       "  <line x1=\"48\" y1=\"0\" x2=\"48\" y2=\"29\" />\n",
       "  <line x1=\"60\" y1=\"0\" x2=\"60\" y2=\"29\" />\n",
       "  <line x1=\"72\" y1=\"0\" x2=\"72\" y2=\"29\" />\n",
       "  <line x1=\"84\" y1=\"0\" x2=\"84\" y2=\"29\" />\n",
       "  <line x1=\"96\" y1=\"0\" x2=\"96\" y2=\"29\" />\n",
       "  <line x1=\"108\" y1=\"0\" x2=\"108\" y2=\"29\" />\n",
       "  <line x1=\"120\" y1=\"0\" x2=\"120\" y2=\"29\" style=\"stroke-width:2\" />\n",
       "\n",
       "  <!-- Colored Rectangle -->\n",
       "  <polygon points=\"0.0,0.0 120.0,0.0 120.0,29.030629010473877 0.0,29.030629010473877\" style=\"fill:#ECB172A0;stroke-width:0\"/>\n",
       "\n",
       "  <!-- Text -->\n",
       "  <text x=\"60.000000\" y=\"49.030629\" font-size=\"1.0rem\" font-weight=\"100\" text-anchor=\"middle\" >50</text>\n",
       "  <text x=\"140.000000\" y=\"14.515315\" font-size=\"1.0rem\" font-weight=\"100\" text-anchor=\"middle\" transform=\"rotate(0,140.000000,14.515315)\">1</text>\n",
       "</svg>\n",
       "        </td>\n",
       "    </tr>\n",
       "</table>"
      ],
      "text/plain": [
       "dask.array<mean_agg-aggregate, shape=(50,), dtype=float64, chunksize=(5,), chunktype=numpy.ndarray>"
      ]
     },
     "execution_count": 67,
     "metadata": {},
     "output_type": "execute_result"
    }
   ],
   "source": [
    "y = x + x.T\n",
    "z = y[::2, 50:].mean(axis=1)\n",
    "z"
   ]
  },
  {
   "cell_type": "markdown",
   "id": "37c16d0d",
   "metadata": {},
   "source": [
    "To get the result as a NumPy array"
   ]
  },
  {
   "cell_type": "code",
   "execution_count": 68,
   "id": "22d99141",
   "metadata": {},
   "outputs": [
    {
     "data": {
      "text/plain": [
       "array([1.00768384, 0.97355635, 1.02757662, 1.04160331, 0.91841035,\n",
       "       1.04022224, 0.94372283, 1.04872293, 0.9603477 , 1.00460021,\n",
       "       0.94901949, 0.99186142, 0.94390023, 0.9327565 , 0.95628512,\n",
       "       0.9017809 , 0.945887  , 0.92952669, 0.95288276, 0.98573597,\n",
       "       0.9804065 , 1.00161442, 0.95374218, 1.01826068, 0.90925307,\n",
       "       1.02319107, 0.98381396, 1.0700391 , 1.02105228, 1.01288914,\n",
       "       1.10818052, 1.0039941 , 1.17158242, 0.9454848 , 1.02162172,\n",
       "       0.96442781, 0.99902991, 0.97174576, 1.10945926, 1.05895171,\n",
       "       0.97838394, 1.09438346, 1.00091608, 1.06286117, 0.99734373,\n",
       "       1.07101088, 1.03618268, 0.96587652, 1.02591546, 1.04075181])"
      ]
     },
     "execution_count": 68,
     "metadata": {},
     "output_type": "execute_result"
    }
   ],
   "source": [
    "z.compute()"
   ]
  },
  {
   "cell_type": "markdown",
   "id": "6a5fa2cf",
   "metadata": {},
   "source": [
    "Depending on the available RAM, you might want to let the data persist in memory to speed up further computation"
   ]
  },
  {
   "cell_type": "code",
   "execution_count": null,
   "id": "79b627d3",
   "metadata": {},
   "outputs": [],
   "source": [
    "y = y.persist()"
   ]
  },
  {
   "cell_type": "markdown",
   "id": "a37df3a9",
   "metadata": {},
   "source": [
    "To find the time it takes to perform an operation "
   ]
  },
  {
   "cell_type": "code",
   "execution_count": 4,
   "id": "b58c8e0a",
   "metadata": {},
   "outputs": [
    {
     "name": "stdout",
     "output_type": "stream",
     "text": [
      "CPU times: user 65.9 ms, sys: 17 ms, total: 82.9 ms\n",
      "Wall time: 81.3 ms\n"
     ]
    },
    {
     "data": {
      "text/plain": [
       "10070.477327750283"
      ]
     },
     "execution_count": 4,
     "metadata": {},
     "output_type": "execute_result"
    }
   ],
   "source": [
    "%time y.sum().compute()"
   ]
  },
  {
   "cell_type": "markdown",
   "id": "868d2a29",
   "metadata": {},
   "source": [
    "## Dask Delayed \n",
    "\n",
    "``for`` loops are often used to parallelize, e.g. iterate over all the 2D-planes of a Z-stack.\n",
    "\n",
    "Below we show how to parallelize sequential incrementation of each value using ``dask.delayed``."
   ]
  },
  {
   "cell_type": "code",
   "execution_count": 25,
   "id": "ece827e5",
   "metadata": {},
   "outputs": [],
   "source": [
    "data = [1, 2, 3, 4, 5, 6, 7, 8]"
   ]
  },
  {
   "cell_type": "code",
   "execution_count": 26,
   "id": "492c4d10",
   "metadata": {},
   "outputs": [],
   "source": [
    "from time import sleep\n",
    "\n",
    "def increment(x):\n",
    "    sleep(1)\n",
    "    return x + 1"
   ]
  },
  {
   "cell_type": "code",
   "execution_count": 63,
   "id": "928b3f83",
   "metadata": {},
   "outputs": [
    {
     "name": "stdout",
     "output_type": "stream",
     "text": [
      "Compute: 44\n",
      "CPU times: user 388 ms, sys: 110 ms, total: 497 ms\n",
      "Wall time: 8.03 s\n"
     ]
    }
   ],
   "source": [
    "%%time\n",
    "# Running without Dask Delayed (the \"usual\" way)\n",
    "results = []\n",
    "for x in data:\n",
    "    y = increment(x)\n",
    "    results.append(y)\n",
    "    \n",
    "total = sum(results)\n",
    "\n",
    "print(\"Compute:\", total) "
   ]
  },
  {
   "cell_type": "markdown",
   "id": "ffa9fb59",
   "metadata": {},
   "source": [
    "We will \"transform\" our function to use ``dask.delayed``. \n",
    "The code below will finish **very quickly**. It will record what we want to compute as a task into a graph that will run later on parallel hardware."
   ]
  },
  {
   "cell_type": "code",
   "execution_count": 32,
   "id": "8b8e72a2",
   "metadata": {},
   "outputs": [],
   "source": [
    "from dask import delayed"
   ]
  },
  {
   "cell_type": "code",
   "execution_count": 60,
   "id": "5142853a",
   "metadata": {},
   "outputs": [
    {
     "name": "stdout",
     "output_type": "stream",
     "text": [
      "Before computing: Delayed('sum-6ecc2071-9136-4909-a60b-508c81782908')\n"
     ]
    }
   ],
   "source": [
    "# No computation happens here\n",
    "results = []\n",
    "\n",
    "for x in data:\n",
    "    y = delayed(increment)(x)\n",
    "    results.append(y)\n",
    "    \n",
    "total = delayed(sum)(results)\n",
    "print(\"Before computing:\", total) "
   ]
  },
  {
   "cell_type": "markdown",
   "id": "dceda569",
   "metadata": {},
   "source": [
    "To get the result, we need to invoke the ``compute`` method."
   ]
  },
  {
   "cell_type": "code",
   "execution_count": 61,
   "id": "65a8f990",
   "metadata": {},
   "outputs": [
    {
     "name": "stdout",
     "output_type": "stream",
     "text": [
      "CPU times: user 58.2 ms, sys: 20.4 ms, total: 78.7 ms\n",
      "Wall time: 1.02 s\n",
      "After computing : 44\n"
     ]
    }
   ],
   "source": [
    "%time result = total.compute()\n",
    "print(\"After computing :\", result)  # Print result after it is computed"
   ]
  },
  {
   "cell_type": "markdown",
   "id": "d1dd5624",
   "metadata": {},
   "source": [
    "There are few tricks to learn with ``dask.delayed``. Please check [dask.delayed best practices](https://docs.dask.org/en/latest/delayed-best-practices.html)"
   ]
  },
  {
   "cell_type": "markdown",
   "id": "f97cefb7",
   "metadata": {},
   "source": [
    "### Parallelize the code below using ``dask.delayed``\n",
    "\n",
    "We create a 3D-numpy array mimicking an image z-stack.\n",
    "We want to segment the XY-plane using ``dask_image``.\n",
    "Run the segmentation below in parallel.\n",
    "Hint: Use the suggestion in this cell to define a function first. Then \"transofrm\" that function to use dask.delayed. The function should return the label_image and the z-section so that we can use them as pointers for later identification.\n",
    "\n",
    "```\n",
    "planes = da.random.random((10, 100, 100), chunks=(10, 10, 10))\n",
    "print(planes.shape)\n",
    "```\n",
    "\n",
    "```\n",
    "import dask_image.ndfilters\n",
    "import dask_image.ndmeasure\n",
    "\n",
    "for z in range(planes.shape[0]):\n",
    "    plane = planes[z, :, :]\n",
    "    smoothed_image = dask_image.ndfilters.gaussian_filter(plane, sigma=[1, 1])\n",
    "    threshold_value = 0.33 * da.max(smoothed_image).compute()\n",
    "    threshold_image = smoothed_image > threshold_value\n",
    "    label_image, num_labels = dask_image.ndmeasure.label(threshold_image)\n",
    "```    "
   ]
  },
  {
   "cell_type": "markdown",
   "id": "44972e84",
   "metadata": {},
   "source": [
    "### (Advanced) Dask cluster \n",
    "\n",
    "Your computer will have multiple cores e.g. 4. When writing regular Python code, you are probably only using 1 of them. If you are using Numpy, e.g. for matrix multiplication, you will be using multiple cores because Numpy knows how to it but general Python code doesn't.\n",
    "\n",
    "Dask cluster allows you to use multiple cores on your computer.\n",
    "Dask has also a dashboard that you can use to monitor your work.\n",
    "\n",
    "This time we will use a local cluster to increment each value in the ``data`` array define above."
   ]
  },
  {
   "cell_type": "code",
   "execution_count": 41,
   "id": "233af74b",
   "metadata": {},
   "outputs": [],
   "source": [
    "def prepare_call(client):\n",
    "    futures = []\n",
    "    for x in data:\n",
    "        y = client.submit(increment, x)\n",
    "        futures.append(y)\n",
    "    return futures"
   ]
  },
  {
   "cell_type": "markdown",
   "id": "3cad29a0",
   "metadata": {},
   "source": [
    "Create a local cluster"
   ]
  },
  {
   "cell_type": "code",
   "execution_count": 42,
   "id": "796cf1b6",
   "metadata": {},
   "outputs": [],
   "source": [
    "from dask.distributed import Client, LocalCluster"
   ]
  },
  {
   "cell_type": "code",
   "execution_count": 43,
   "id": "f9c74fb5",
   "metadata": {
    "scrolled": true
   },
   "outputs": [
    {
     "name": "stdout",
     "output_type": "stream",
     "text": [
      "[2, 3, 4, 5, 6, 7, 8, 9]\n"
     ]
    }
   ],
   "source": [
    "# if you want to specify number of workers etc.\n",
    "cluster = LocalCluster(n_workers=2, processes=True, threads_per_worker=1)\n",
    "# or simply \n",
    "# cluster = LocalCluster()\n",
    "with Client(cluster) as client:\n",
    "    # perform code\n",
    "    futures = prepare_call(client)\n",
    "    results = client.gather(futures)\n",
    "\n",
    "print(results)"
   ]
  },
  {
   "cell_type": "markdown",
   "id": "b0a27b81",
   "metadata": {},
   "source": [
    "## Parallelize using LocalCluster\n",
    "\n",
    "Using the 3D data above, parallelize the code this time using a LocalCluster instead of ``dask.delayed``."
   ]
  },
  {
   "cell_type": "markdown",
   "id": "3993e299",
   "metadata": {},
   "source": [
    "### License (BSD 2-Clause)\n",
    "Copyright (C) 2022 University of Dundee. All Rights Reserved.\n",
    "\n",
    "Redistribution and use in source and binary forms, with or without modification, are permitted provided that the following conditions are met:\n",
    "\n",
    "Redistributions of source code must retain the above copyright notice, this list of conditions and the following disclaimer.\n",
    "Redistributions in binary form must reproduce the above copyright notice, this list of conditions and the following disclaimer in the documentation and/or other materials provided with the distribution.\n",
    "THIS SOFTWARE IS PROVIDED BY THE COPYRIGHT HOLDERS AND CONTRIBUTORS \"AS IS\" AND ANY EXPRESS OR IMPLIED WARRANTIES, INCLUDING, BUT NOT LIMITED TO, THE IMPLIED WARRANTIES OF MERCHANTABILITY AND FITNESS FOR A PARTICULAR PURPOSE ARE DISCLAIMED. IN NO EVENT SHALL THE COPYRIGHT OWNER OR CONTRIBUTORS BE LIABLE FOR ANY DIRECT, INDIRECT, INCIDENTAL, SPECIAL, EXEMPLARY, OR CONSEQUENTIAL DAMAGES (INCLUDING, BUT NOT LIMITED TO, PROCUREMENT OF SUBSTITUTE GOODS OR SERVICES; LOSS OF USE, DATA, OR PROFITS; OR BUSINESS INTERRUPTION) HOWEVER CAUSED AND ON ANY THEORY OF LIABILITY, WHETHER IN CONTRACT, STRICT LIABILITY, OR TORT (INCLUDING NEGLIGENCE OR OTHERWISE) ARISING IN ANY WAY OUT OF THE USE OF THIS SOFTWARE, EVEN IF ADVISED OF THE POSSIBILITY OF SUCH DAMAGE."
   ]
  }
 ],
 "metadata": {
  "kernelspec": {
   "display_name": "imaging_course",
   "language": "python",
   "name": "imaging_course"
  },
  "language_info": {
   "codemirror_mode": {
    "name": "ipython",
    "version": 3
   },
   "file_extension": ".py",
   "mimetype": "text/x-python",
   "name": "python",
   "nbconvert_exporter": "python",
   "pygments_lexer": "ipython3",
   "version": "3.9.12"
  }
 },
 "nbformat": 4,
 "nbformat_minor": 5
}
