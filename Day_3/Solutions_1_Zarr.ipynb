{
 "cells": [
  {
   "cell_type": "markdown",
   "id": "bd099ca7",
   "metadata": {},
   "source": [
    "# Solution to the exercises from [Zarr notebook](1_Zarr.ipynb)"
   ]
  },
  {
   "cell_type": "markdown",
   "id": "7143d3bd",
   "metadata": {},
   "source": [
    "## Exercise: Load data from S3 and segment 2D-plane in parallel \n",
    "\n",
    "Define a method to \"load\" the data and one to analyze.\n",
    "We use ``image_id = 4007801``"
   ]
  },
  {
   "cell_type": "code",
   "execution_count": 24,
   "id": "1e4297bc",
   "metadata": {},
   "outputs": [],
   "source": [
    "image_id = 4007801"
   ]
  },
  {
   "cell_type": "markdown",
   "id": "7b4415f1",
   "metadata": {},
   "source": [
    "The method below will return a dask array **without** any binary data. The dimension order of the array returned is ``(TCZYX)``. Data will be loaded when requested during the analysis. "
   ]
  },
  {
   "cell_type": "code",
   "execution_count": 25,
   "id": "840d09a3",
   "metadata": {},
   "outputs": [],
   "source": [
    "import dask\n",
    "import dask.array as da\n",
    "\n",
    "def load_binary_from_s3(id, resolution='4'):\n",
    "    endpoint_url = 'https://uk1s3.embassy.ebi.ac.uk/'\n",
    "    root = 'idr/zarr/v0.1/%s.zarr/%s/' % (id, resolution)\n",
    "    return da.from_zarr(endpoint_url + root)"
   ]
  },
  {
   "cell_type": "markdown",
   "id": "cb96c567",
   "metadata": {},
   "source": [
    "Analyze method to use with ``dask.delayed``."
   ]
  },
  {
   "cell_type": "code",
   "execution_count": 26,
   "id": "f10db269",
   "metadata": {},
   "outputs": [],
   "source": [
    "import dask_image.ndfilters\n",
    "import dask_image.ndmeasure\n",
    "\n",
    "def analyze(t, c, z):\n",
    "    plane = data[t, c, z, :, :] \n",
    "    smoothed_image = dask_image.ndfilters.gaussian_filter(plane, sigma=[1, 1])\n",
    "    threshold_value = 0.33 * da.max(smoothed_image).compute()\n",
    "    threshold_image = smoothed_image > threshold_value\n",
    "    label_image, num_labels = dask_image.ndmeasure.label(threshold_image)\n",
    "    name = \"t:%s, c: %s, z:%s\" % (t, c, z)\n",
    "    return label_image, name "
   ]
  },
  {
   "cell_type": "markdown",
   "id": "4a80a979",
   "metadata": {},
   "source": [
    "Load the dask array. This is very quick since we **do not** load any binary data."
   ]
  },
  {
   "cell_type": "code",
   "execution_count": 27,
   "id": "025b535b",
   "metadata": {},
   "outputs": [
    {
     "name": "stdout",
     "output_type": "stream",
     "text": [
      "CPU times: user 22.4 ms, sys: 46.1 ms, total: 68.5 ms\n",
      "Wall time: 452 ms\n"
     ]
    }
   ],
   "source": [
    "%time data = load_binary_from_s3(image_id)"
   ]
  },
  {
   "cell_type": "markdown",
   "id": "35022407",
   "metadata": {},
   "source": [
    "Check the size of the array "
   ]
  },
  {
   "cell_type": "code",
   "execution_count": 7,
   "id": "2194fc10",
   "metadata": {},
   "outputs": [
    {
     "name": "stdout",
     "output_type": "stream",
     "text": [
      "(532, 2, 988, 128, 135)\n"
     ]
    }
   ],
   "source": [
    "print(data.shape)"
   ]
  },
  {
   "cell_type": "markdown",
   "id": "0fb145b4",
   "metadata": {},
   "source": [
    "Now use ``dask.delayed`` to segment 2D around the middle z-section, the middle timepoint and the first channel\n",
    "Again this is very quick since we build the graph and do not perform the analysis"
   ]
  },
  {
   "cell_type": "code",
   "execution_count": 8,
   "id": "5799552d",
   "metadata": {},
   "outputs": [
    {
     "name": "stdout",
     "output_type": "stream",
     "text": [
      "[Delayed('analyze-54e5c532-603c-4dbd-b496-1aaeb9ae5680'), Delayed('analyze-db5a4511-ffa6-4ea7-886b-e40f2a45643a'), Delayed('analyze-ab644f68-30fb-4ccd-b7dd-993760f23ba7'), Delayed('analyze-e66859b0-6911-4d44-b259-87d3826da0ae'), Delayed('analyze-de278989-18ea-40cf-9e23-c5f4bfef023d'), Delayed('analyze-6e096205-8eae-40e8-b128-ddcb8e93b2d6'), Delayed('analyze-32da6a70-3d3c-4deb-8f81-10d7e488e9aa'), Delayed('analyze-232ff2e5-d119-411b-a883-4edc8be70670'), Delayed('analyze-b2d0da79-7129-4eeb-8799-602ef929fb50'), Delayed('analyze-8fb6ef21-1855-4101-b09d-5021547ff08d'), Delayed('analyze-aca0a367-7592-41a2-8f77-1b169ffc9b34'), Delayed('analyze-7ab7453a-4943-4033-8db7-0451c75201e7'), Delayed('analyze-f9aa1431-282a-423b-9eff-6fc12059a30d'), Delayed('analyze-6fbfedc0-27d4-47d5-b35b-9dea4e6fb558'), Delayed('analyze-4cde3011-2fb8-4b10-9228-d8a7bb5568c3'), Delayed('analyze-0aa307c4-abff-4c5b-b5c4-7c6cbbe09874'), Delayed('analyze-b123465a-b26b-463c-9bc8-6a1aa8a78474'), Delayed('analyze-4ea15fed-f54e-400d-9eae-82c037c4945c'), Delayed('analyze-eea5af5b-d5f6-4840-96d0-0ed3793d662b'), Delayed('analyze-971dc15e-0837-4641-9dcd-e0d9806c790c'), Delayed('analyze-9595b874-550a-4e29-84e1-23c8164153eb'), Delayed('analyze-343b4510-2421-43ab-80be-db41b08dd34b'), Delayed('analyze-84a065f3-9417-4b53-993a-989e6b70d20d'), Delayed('analyze-9d8c66f7-a3fe-445f-8e38-4a910caa37b1'), Delayed('analyze-4cdc2413-d056-4b96-8b41-07d59d8284b7'), Delayed('analyze-41635018-468a-46fd-82db-e18876dbee89'), Delayed('analyze-b1fe478e-3bc3-48fa-ab56-56ae3284b2f7'), Delayed('analyze-765390a3-456a-41bd-8583-c36d4bdbc496'), Delayed('analyze-770e04bd-9dc0-4128-bfff-34f631813763'), Delayed('analyze-6fbc5d77-b19a-4427-9577-be261e207e01'), Delayed('analyze-7126c480-5259-48c7-b103-512ff4ef2ee5'), Delayed('analyze-aacf23fc-a4b2-4f9c-90f3-9bc237153754'), Delayed('analyze-f8a47716-b2e2-4dbc-8055-8bf8c1034e54'), Delayed('analyze-01872804-a56f-4ad7-8786-710aa12c2b96'), Delayed('analyze-b7226eb4-cb89-4a6c-bd5f-28ed4acfa036'), Delayed('analyze-bbf68944-3c96-4b20-8388-f929488eefc7'), Delayed('analyze-1ec392b1-f689-4807-b7d3-a8e59009ad94'), Delayed('analyze-6d3f42cf-8759-4da8-917a-fb8be99e9c16'), Delayed('analyze-bd5d2460-6bfa-4562-8e2b-0296b29207c6'), Delayed('analyze-8d5bb15d-7157-48dd-91df-23030d0b0cd2'), Delayed('analyze-5e965b56-d47b-44f9-8687-5ac9b128d6e7'), Delayed('analyze-d79b88b4-3478-4f27-842f-c5c6c84b6250'), Delayed('analyze-5abed2c4-98a5-45be-9318-e85f974f17fc'), Delayed('analyze-9b393e01-227c-410f-8174-c86d1dc1554b'), Delayed('analyze-0ff9e705-a243-4804-bc74-395fef2dc3c5'), Delayed('analyze-33a4e10a-6a6e-4050-afb5-9219c7841524'), Delayed('analyze-7f58cbc3-2d31-4a19-9071-17f0df0d7b2c'), Delayed('analyze-8a98d2e9-16eb-49f4-a10e-e52f283d1b47'), Delayed('analyze-55ed7dfa-38ea-4cfd-b8cc-52104489c05b'), Delayed('analyze-8bde983c-2704-45d1-9499-f4077a5d6693'), Delayed('analyze-4b080df2-87ba-420e-96b3-ee167128fac3'), Delayed('analyze-ce70ed0d-2d12-4fd7-afb7-043638dbc7f3'), Delayed('analyze-f676d172-0c79-4c34-9b04-410969061d70'), Delayed('analyze-6b3e9f6c-03b6-4366-871c-c8f52c1fa1a9'), Delayed('analyze-a44bea06-8ddf-418e-a3dd-a6b37434f428'), Delayed('analyze-dc512ead-0aa6-44fc-a3e6-504e522a83e1'), Delayed('analyze-e22a2a9a-66a1-419d-9566-3ffec99abc30'), Delayed('analyze-59d328e6-4830-4dea-aefa-dbfbfdb370e0'), Delayed('analyze-01892b5e-aa9a-4f5f-bba2-1193956edf45'), Delayed('analyze-cf46f2a5-9ec8-4fbc-94a6-89a0e9f2babf'), Delayed('analyze-b0e6fc27-e37e-4986-9800-8880c821e515'), Delayed('analyze-44384899-a2bf-4ecf-b1f9-d9bd03a40ee7'), Delayed('analyze-e569893a-5799-47cf-9208-6da1fb568668'), Delayed('analyze-617e014a-9af0-4776-9fb7-ab7ec4a89562'), Delayed('analyze-d270b23e-0ac4-42b5-b82a-2f6410b3d015'), Delayed('analyze-be7a737b-1bc9-4efe-bec0-b4707cb9373b'), Delayed('analyze-584d7af6-159c-452d-8716-8203edf5bb14'), Delayed('analyze-e0fbcb46-ad30-4065-b629-4232a7d466b1'), Delayed('analyze-485dbba3-8eb3-4884-88e0-36437f272312'), Delayed('analyze-beb865f4-cbfc-47e1-b3d5-6b9c1afafa3c'), Delayed('analyze-6164ece3-fc10-4445-a4c1-663f6d49521f'), Delayed('analyze-e8da3b98-77ae-4a81-9e70-40a5c1c738e5'), Delayed('analyze-88dc1480-8acc-47db-8e35-461f7e8ce0ae'), Delayed('analyze-84eb2010-93d5-4a56-8ee9-8272adcb1523'), Delayed('analyze-73e27c84-2800-486c-9f7c-aa9249be8c53'), Delayed('analyze-b05601ac-9b61-4d43-b846-d2ad2d8c1e52'), Delayed('analyze-421b446b-df46-4e79-9b63-1adaf26f7645'), Delayed('analyze-6b614676-a97f-4747-99f3-c57b6c49ad6e'), Delayed('analyze-51548819-9b36-49db-b8cc-dd5945747f44'), Delayed('analyze-2dee9d07-78aa-4d8b-bd3f-6ffdf6712e04'), Delayed('analyze-583b6428-4f3f-4fab-b8d5-215af566ceaf'), Delayed('analyze-bc4de049-a22b-4b09-bdeb-dfefdf881237'), Delayed('analyze-947d2db7-8b16-48ac-bfcf-8344d7b58032'), Delayed('analyze-d3c3bbe5-b39c-4e8e-ab29-f8254fd19aad'), Delayed('analyze-06a25b1e-f2d2-492c-8ff2-b2487580a559'), Delayed('analyze-9dff967b-9170-4eb8-8bc5-d580aec11a62'), Delayed('analyze-dbf525f1-16c4-4560-84a3-76b565b2973c'), Delayed('analyze-f281cdb7-5c77-4284-bf37-42a9fcf3839b'), Delayed('analyze-4e1eb571-a98e-41a7-81e9-a3ea440242ba'), Delayed('analyze-5c99a4c6-4fc8-4557-8391-4f791dde544b'), Delayed('analyze-0bd206b3-9ea2-4632-b44d-1a0a2f7c702e'), Delayed('analyze-eaeddd60-e65a-4892-93bf-2d9d004b6430'), Delayed('analyze-75533507-d706-49cf-bc97-78b46bac2874'), Delayed('analyze-99e6d0aa-9901-4417-995a-e7cfbc39f4d6'), Delayed('analyze-9511df39-e4f4-40c7-834e-76baa6a3f10d'), Delayed('analyze-3946598a-2bf2-4094-ae4d-250697b313fe'), Delayed('analyze-23ca192a-45d3-4087-b273-43736cd80ff3'), Delayed('analyze-1fa20ecd-719f-48dd-a360-da86dd545517'), Delayed('analyze-74b56eb9-cb4c-4ff0-b3ce-f14e851f0811'), Delayed('analyze-eab2d4a7-74b2-4b2c-b1e2-20147d05e344')]\n",
      "CPU times: user 5.19 ms, sys: 3.21 ms, total: 8.4 ms\n",
      "Wall time: 6.8 ms\n"
     ]
    }
   ],
   "source": [
    "%%time\n",
    "lazy_results = []\n",
    "middle_z = data.shape[2] // 2\n",
    "middle_t = data.shape[0] // 2\n",
    "range_t = 5\n",
    "range_z = 5\n",
    "for t in range(middle_t - range_t, middle_t + range_t):\n",
    "    for z in range(middle_z - range_z, middle_z + range_z):\n",
    "        lazy_result = dask.delayed(analyze)(t, 1, z)\n",
    "        lazy_results.append(lazy_result)\n",
    "print(lazy_results)"
   ]
  },
  {
   "cell_type": "markdown",
   "id": "d3d13794",
   "metadata": {},
   "source": [
    "Run the analysis"
   ]
  },
  {
   "cell_type": "code",
   "execution_count": 9,
   "id": "34f1e34f",
   "metadata": {},
   "outputs": [
    {
     "name": "stdout",
     "output_type": "stream",
     "text": [
      "CPU times: user 1min 44s, sys: 5.83 s, total: 1min 50s\n",
      "Wall time: 1min 51s\n"
     ]
    }
   ],
   "source": [
    "%time results = dask.compute(*lazy_results)"
   ]
  },
  {
   "cell_type": "markdown",
   "id": "d8960db1",
   "metadata": {},
   "source": [
    "Display the results "
   ]
  },
  {
   "cell_type": "code",
   "execution_count": 11,
   "id": "04c7b994",
   "metadata": {},
   "outputs": [
    {
     "data": {
      "application/vnd.jupyter.widget-view+json": {
       "model_id": "ce12f3b452334813b4c3e2b3f0071d65",
       "version_major": 2,
       "version_minor": 0
      },
      "text/plain": [
       "interactive(children=(IntSlider(value=0, continuous_update=False, description='Select Plane', max=99), Output(…"
      ]
     },
     "metadata": {},
     "output_type": "display_data"
    },
    {
     "data": {
      "text/plain": [
       "<function __main__.display(i=0)>"
      ]
     },
     "execution_count": 11,
     "metadata": {},
     "output_type": "execute_result"
    }
   ],
   "source": [
    "import matplotlib.pyplot as plt\n",
    "%matplotlib inline\n",
    "from ipywidgets import *\n",
    "\n",
    "def display(i=0):\n",
    "    r, name = results[i]\n",
    "    fig = plt.figure(figsize=(10, 10))\n",
    "    plt.subplot(121)\n",
    "    plt.imshow(r)\n",
    "    plt.title(name)\n",
    "    fig.canvas.flush_events()\n",
    "\n",
    "interact(display, i= widgets.IntSlider(value=0, min=0, max=len(results)-1, step=1, description=\"Select Plane\", continuous_update=False))\n"
   ]
  },
  {
   "cell_type": "markdown",
   "id": "829e798b",
   "metadata": {},
   "source": [
    "If interested in scripts instead of the notebook:\n",
    "* [segmentation and dask.delayed](https://github.com/ome/omero-guide-python/blob/master/scripts/idr0044_zarr_segmentation_parallel.py)\n",
    "* [segmentation and cluster](https://github.com/ome/omero-guide-python/blob/master/scripts/idr0044_zarr_segmentation_cluster.py)"
   ]
  },
  {
   "cell_type": "markdown",
   "id": "c1e3740f",
   "metadata": {},
   "source": [
    "## Exercise:  Load data from S3 and display published labels\n",
    "\n",
    "We will use ``image_id = 6001247``. This time we load the binary immediately, load the lables and overlay them on top of the image."
   ]
  },
  {
   "cell_type": "code",
   "execution_count": 12,
   "id": "20b33793",
   "metadata": {},
   "outputs": [],
   "source": [
    "image_id = 6001247"
   ]
  },
  {
   "cell_type": "markdown",
   "id": "d3e767f7",
   "metadata": {},
   "source": [
    "First defined two methods: one to load the binary data corresponding to the image and one to load the labels. "
   ]
  },
  {
   "cell_type": "code",
   "execution_count": 16,
   "id": "946be472",
   "metadata": {},
   "outputs": [],
   "source": [
    "import dask\n",
    "import dask.array as da\n",
    "from dask.diagnostics import ProgressBar\n",
    "import numpy\n",
    "\n",
    "def load_binary_from_s3(id, resolution='0'):\n",
    "    endpoint_url = 'https://uk1s3.embassy.ebi.ac.uk/'\n",
    "    root = 'idr/zarr/v0.1/%s.zarr/%s/' % (id, resolution)\n",
    "    with ProgressBar():\n",
    "        return numpy.asarray(da.from_zarr(endpoint_url + root))"
   ]
  },
  {
   "cell_type": "code",
   "execution_count": 17,
   "id": "2e8bced6",
   "metadata": {},
   "outputs": [],
   "source": [
    "def load_labels_from_s3(id, resolution='0'):\n",
    "    endpoint_url = 'https://uk1s3.embassy.ebi.ac.uk/'\n",
    "    root = 'idr/zarr/v0.1/%s.zarr/labels/%s/' % (id, resolution)\n",
    "    return da.from_zarr(endpoint_url + root)"
   ]
  },
  {
   "cell_type": "markdown",
   "id": "9dd62a62",
   "metadata": {},
   "source": [
    "Load the binary. This time it is not instant"
   ]
  },
  {
   "cell_type": "code",
   "execution_count": 18,
   "id": "0b2be838",
   "metadata": {},
   "outputs": [
    {
     "name": "stdout",
     "output_type": "stream",
     "text": [
      "[########################################] | 100% Completed | 11.4s\n",
      "(1, 2, 257, 210, 253)\n",
      "CPU times: user 2.38 s, sys: 732 ms, total: 3.11 s\n",
      "Wall time: 12 s\n"
     ]
    }
   ],
   "source": [
    "%%time\n",
    "data = load_binary_from_s3(image_id)\n",
    "print(data.shape)"
   ]
  },
  {
   "cell_type": "markdown",
   "id": "27e42781",
   "metadata": {},
   "source": [
    "Load the labels note that not labels are not on all planes. The labels have been only computed for one channel (``c = 1``). You can see a difference in the ``C`` dimension."
   ]
  },
  {
   "cell_type": "code",
   "execution_count": 20,
   "id": "9232d10b",
   "metadata": {},
   "outputs": [
    {
     "name": "stdout",
     "output_type": "stream",
     "text": [
      "(1, 1, 257, 210, 253)\n",
      "CPU times: user 16 ms, sys: 17.7 ms, total: 33.8 ms\n",
      "Wall time: 330 ms\n"
     ]
    }
   ],
   "source": [
    "%%time\n",
    "labels = load_labels_from_s3(image_id)\n",
    "print(labels.shape)"
   ]
  },
  {
   "cell_type": "markdown",
   "id": "45a40686",
   "metadata": {},
   "source": [
    "Display the labels"
   ]
  },
  {
   "cell_type": "code",
   "execution_count": 23,
   "id": "b50a857b",
   "metadata": {},
   "outputs": [
    {
     "data": {
      "application/vnd.jupyter.widget-view+json": {
       "model_id": "a0ec236b1b5e467ba37b8bc6d4a28dd5",
       "version_major": 2,
       "version_minor": 0
      },
      "text/plain": [
       "interactive(children=(IntSlider(value=0, continuous_update=False, description='Select Z', max=256), Output()),…"
      ]
     },
     "metadata": {},
     "output_type": "display_data"
    },
    {
     "data": {
      "text/plain": [
       "<function __main__.update(z=0)>"
      ]
     },
     "execution_count": 23,
     "metadata": {},
     "output_type": "execute_result"
    }
   ],
   "source": [
    "import matplotlib.pyplot as plt\n",
    "%matplotlib inline\n",
    "from ipywidgets import *\n",
    "\n",
    "def update(z=0):\n",
    "    fig = plt.figure(figsize=(10, 10))\n",
    "    plt.subplot(121)\n",
    "    c = 1\n",
    "    plt.imshow(data[0, c, z, :, :], cmap='gray')\n",
    "    try:\n",
    "        # due to the fact that the dimension along the C-axis is 1. The index is set to 0.\n",
    "        plt.imshow(labels[0, 0, z, :, :], cmap='jet', alpha=0.5)\n",
    "    except Exception:\n",
    "        print(z)\n",
    "interact(update, z= widgets.IntSlider(value=0, min=0, max=data.shape[2]-1, step=1, description=\"Select Z\", continuous_update=False))"
   ]
  }
 ],
 "metadata": {
  "kernelspec": {
   "display_name": "imaging_course",
   "language": "python",
   "name": "imaging_course"
  },
  "language_info": {
   "codemirror_mode": {
    "name": "ipython",
    "version": 3
   },
   "file_extension": ".py",
   "mimetype": "text/x-python",
   "name": "python",
   "nbconvert_exporter": "python",
   "pygments_lexer": "ipython3",
   "version": "3.9.12"
  }
 },
 "nbformat": 4,
 "nbformat_minor": 5
}
