{
 "cells": [
  {
   "cell_type": "markdown",
   "id": "b5946a78",
   "metadata": {},
   "source": [
    "# Solutions to the exercises from the [Python API notebook](0_Python_API.ipynb)"
   ]
  },
  {
   "cell_type": "markdown",
   "id": "1979e6a1",
   "metadata": {},
   "source": [
    "## Exercise: Load the 5D image as a TCZYX numpy array"
   ]
  },
  {
   "cell_type": "code",
   "execution_count": 4,
   "id": "68817364",
   "metadata": {},
   "outputs": [],
   "source": [
    "import numpy\n",
    "\n",
    "def load_numpy_array(image):\n",
    "    pixels = image.getPrimaryPixels()\n",
    "    size_z = image.getSizeZ()\n",
    "    size_c = image.getSizeC()\n",
    "    size_t = image.getSizeT()\n",
    "    z, t, c = 0, 0, 0  # first plane of the image\n",
    "\n",
    "    zct_list = []\n",
    "    for t in range(size_t):\n",
    "        for c in range(size_c):  # all channels\n",
    "            for z in range(size_z):  # get the Z-stack\n",
    "                zct_list.append((z, c, t))\n",
    "\n",
    "    values = []\n",
    "    # Load all the planes as YX numpy array\n",
    "    planes = pixels.getPlanes(zct_list)\n",
    "    s = \"t:%s c:%s z:%s\" % (size_t, size_c, size_z)\n",
    "    print(\"Downloading image %s\" % image.getName())\n",
    "    all_planes = numpy.stack(list(planes))\n",
    "    shape = (size_t, size_c, size_z, size_y, size_x)\n",
    "    return numpy.reshape(all_planes, newshape=shape)"
   ]
  },
  {
   "cell_type": "markdown",
   "id": "f098b8cd",
   "metadata": {},
   "source": [
    "## Exercise:  Load the data and the labels from S3"
   ]
  },
  {
   "cell_type": "markdown",
   "id": "0505030b",
   "metadata": {},
   "source": [
    "Load the binary "
   ]
  },
  {
   "cell_type": "code",
   "execution_count": 5,
   "id": "b24d0a71",
   "metadata": {},
   "outputs": [],
   "source": [
    "import dask\n",
    "import numpy\n",
    "from dask.diagnostics import ProgressBar\n",
    "\n",
    "def load_binary_from_s3(id, resolution='0'):\n",
    "    endpoint_url = 'https://uk1s3.embassy.ebi.ac.uk/'\n",
    "    root = 'idr/zarr/v0.1/%s.zarr/%s/' % (id, resolution)\n",
    "    with ProgressBar():\n",
    "        return numpy.asarray(da.from_zarr(endpoint_url + root))\n"
   ]
  },
  {
   "cell_type": "markdown",
   "id": "ea5388d2",
   "metadata": {},
   "source": [
    "Load the labels. Note that the dimension along the C axis. Only one channel was analysed."
   ]
  },
  {
   "cell_type": "code",
   "execution_count": 6,
   "id": "6344cd78",
   "metadata": {},
   "outputs": [],
   "source": [
    "def load_labels_from_s3(id, resolution='0'):\n",
    "    endpoint_url = 'https://uk1s3.embassy.ebi.ac.uk/'\n",
    "    root = 'idr/zarr/v0.1/%s.zarr/labels/%s/' % (id, resolution)\n",
    "    return da.from_zarr(endpoint_url + root)"
   ]
  }
 ],
 "metadata": {
  "kernelspec": {
   "display_name": "imaging_course",
   "language": "python",
   "name": "imaging_course"
  },
  "language_info": {
   "codemirror_mode": {
    "name": "ipython",
    "version": 3
   },
   "file_extension": ".py",
   "mimetype": "text/x-python",
   "name": "python",
   "nbconvert_exporter": "python",
   "pygments_lexer": "ipython3",
   "version": "3.9.12"
  }
 },
 "nbformat": 4,
 "nbformat_minor": 5
}
