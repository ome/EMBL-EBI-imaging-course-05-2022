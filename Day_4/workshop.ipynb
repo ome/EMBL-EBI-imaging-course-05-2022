{
 "cells": [
  {
   "cell_type": "markdown",
   "id": "d70b36ed",
   "metadata": {},
   "source": [
    "## Image Data Resource (IDR) practical\n",
    "\n",
    "### Outline \n",
    "* Basics (this notebook)\n",
    "* Validate a tool against IDR data"
   ]
  },
  {
   "cell_type": "markdown",
   "id": "5d80ce0f",
   "metadata": {},
   "source": [
    "### Objectives\n",
    "\n",
    " * Demonstrate how to access data from IDR using the Python API.\n",
    " * Re-analyze data using a different tool than the ones considered by the authors."
   ]
  },
  {
   "cell_type": "markdown",
   "id": "b18bb5de",
   "metadata": {},
   "source": [
    "### Prepare \n",
    "\n",
    "Clone this repository:\n",
    "\n",
    "```\n",
    "  $ git clone http://github.com/ome/EMBL-EBI-imaging-course-05-2022\n",
    "  $ cd EMBL-EBI-imaging-course-05-2022\n",
    "```\n",
    "\n",
    "The included file environment.yml in the ``binder`` subdirectory contains a list of all of the packages needed to run this tutorial. To install them using ``conda``, you can do:\n",
    "\n",
    "```\n",
    "  $ conda env create -n imaging_course -f binder/environment.yml\n",
    "```\n",
    "\n",
    "Activate the newly created environment:\n",
    "\n",
    "```\n",
    "conda activate imaging_course\n",
    "```\n",
    "\n",
    "If you have Anaconda installed:\n",
    "  * Start Jupyter from the Anaconda-navigator\n",
    "  * Select the notebook you wish to run and select the ``Kernel>Change kernel>Python [conda env:imaging_course]``\n",
    "\n",
    "If Anaconda is not installed:\n",
    "  * In the environment, install ``jupyter`` e.g. ``pip install jupyter``\n",
    "  * Add the virtualenv as a jupyter kernel i.e. ``ipython kernel install --name \"imaging_course\" --user``\n",
    "  * Open jupyter notebook i.e. ``jupyter notebook`` and select the ``imaging_course`` kernel or ``[conda env:imaging_course]`` according to what is available\n"
   ]
  },
  {
   "cell_type": "markdown",
   "id": "2af13f31",
   "metadata": {},
   "source": [
    "## Tutorial Structure\n",
    "\n",
    "\n",
    "Each section is a Jupyter notebook. There's a mixture of text, code, and exercises.\n",
    "\n",
    "If you haven't used Jupyter Notebook before, the quick intro is\n",
    "\n",
    "* There are two modes: ``command`` and ``edit``\n",
    "* From command ``mode``, press ``Enter`` to edit a cell (like this markdown cell)\n",
    "* From ``edit`` mode, press ``Esc`` to change to command mode\n",
    "* Press ``shift+enter`` to execute a cell and move to the next cell.\n",
    "* The toolbar has commands for executing, converting, and creating cells.\n",
    "* Use the `%%time` magic at the beginning of a cell to check how long the computation takes or use the magic ``%time`` in front of a command if only running one command."
   ]
  },
  {
   "cell_type": "code",
   "execution_count": null,
   "id": "4734029d",
   "metadata": {},
   "outputs": [],
   "source": []
  }
 ],
 "metadata": {
  "kernelspec": {
   "display_name": "imaging_course",
   "language": "python",
   "name": "imaging_course"
  },
  "language_info": {
   "codemirror_mode": {
    "name": "ipython",
    "version": 3
   },
   "file_extension": ".py",
   "mimetype": "text/x-python",
   "name": "python",
   "nbconvert_exporter": "python",
   "pygments_lexer": "ipython3",
   "version": "3.9.12"
  }
 },
 "nbformat": 4,
 "nbformat_minor": 5
}
