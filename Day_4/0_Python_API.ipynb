{
 "cells": [
  {
   "cell_type": "markdown",
   "id": "bcd652c7",
   "metadata": {},
   "source": [
    "# Validate a tool against IDR data\n",
    "\n",
    "The image (``id=6001247``) is referenced in the paper \"NesSys: a novel method for accurate nuclear segmentation in 3D\" published August 2019 in PLOS Biology: https://doi.org/10.1371/journal.pbio.3000388 and can be viewed online in the [Image Data Resource](https://idr.openmicroscopy.org/webclient/?show=image-6001247)(IDR).\n",
    "\n",
    "IDR is based on [OMERO](https://www.openmicroscopy.org/omero/) so anything used during this session can be used against an OMERO server\n",
    "\n",
    "\n",
    "The authors considered various packages. The objectives of this workshop:\n",
    "\n",
    "* How to access public resource via the [Python API](https://omero-guides.readthedocs.io/en/latest/python/docs/index.html).\n",
    "* How to load image data.\n",
    "* How to load binary data.\n",
    "* How to load Regions of Interest (ROIs) associated to an image.\n",
    "* Compare ROIs submitted by the authors and the ones generated during a new snalysis.\n",
    "\n",
    "Loading data via the API **does not** write a file on disk. If you wish to download file(s) from IDR and write them on disk, please check [Data download](https://idr.openmicroscopy.org/about/download.html).\n",
    "\n",
    "We will analyse the data using [Stardist](https://github.com/stardist/stardist) and compare the output. Stardist was not considered by the authors. This shows how public repository can be accessed to valid tools or new algorithm."
   ]
  },
  {
   "cell_type": "markdown",
   "id": "4da31f1f",
   "metadata": {},
   "source": [
    "## First connect to IDR\n",
    "\n",
    "This is the first step to any action when using the Python API."
   ]
  },
  {
   "cell_type": "code",
   "execution_count": 8,
   "id": "ef1caf00",
   "metadata": {},
   "outputs": [
    {
     "name": "stdout",
     "output_type": "stream",
     "text": [
      "True\n"
     ]
    }
   ],
   "source": [
    "from omero.gateway import BlitzGateway\n",
    "HOST = 'ws://idr.openmicroscopy.org/omero-ws'\n",
    "conn = BlitzGateway('public', 'public',\n",
    "                    host=HOST, secure=True)\n",
    "print(conn.connect())\n",
    "conn.c.enableKeepAlive(60)"
   ]
  },
  {
   "cell_type": "markdown",
   "id": "3d3d7aea",
   "metadata": {},
   "source": [
    "## Load an image\n",
    "\n",
    "We load information about the image but **not** the binary data. An image is a 5D-object (XYZCT)."
   ]
  },
  {
   "cell_type": "code",
   "execution_count": 9,
   "id": "80c1d443",
   "metadata": {},
   "outputs": [],
   "source": [
    "image_id = 6001247"
   ]
  },
  {
   "cell_type": "code",
   "execution_count": 10,
   "id": "50e9921e",
   "metadata": {},
   "outputs": [
    {
     "name": "stdout",
     "output_type": "stream",
     "text": [
      "B4_C3.tif\n"
     ]
    }
   ],
   "source": [
    "image = conn.getObject(\"Image\", image_id)\n",
    "print(image.getName())"
   ]
  },
  {
   "cell_type": "markdown",
   "id": "0d7dea30",
   "metadata": {},
   "source": [
    "To get the dimension along the an axis e.g. z-axis. Do:"
   ]
  },
  {
   "cell_type": "code",
   "execution_count": 17,
   "id": "149d327b",
   "metadata": {
    "scrolled": true
   },
   "outputs": [
    {
     "name": "stdout",
     "output_type": "stream",
     "text": [
      "210\n"
     ]
    }
   ],
   "source": [
    "print(image.getSizeY())"
   ]
  },
  {
   "cell_type": "markdown",
   "id": "fcd39031",
   "metadata": {},
   "source": [
    "Exercise: Print the version along the T and C axis"
   ]
  },
  {
   "cell_type": "markdown",
   "id": "c6d264a5",
   "metadata": {},
   "source": [
    "## Load the binary\n",
    "\n",
    "To access the binary, we need to load the `pixels` object from the image and retrieve the plane(s)"
   ]
  },
  {
   "cell_type": "code",
   "execution_count": 13,
   "id": "21e9f022",
   "metadata": {},
   "outputs": [],
   "source": [
    "pixels = image.getPrimaryPixels()"
   ]
  },
  {
   "cell_type": "markdown",
   "id": "91075ecf",
   "metadata": {},
   "source": [
    "When using the API, you can only load the planes you need to analyze. This is an advantage when using analytical tools requiring planar data e.g. CellProfiler. The example below show to load one plane as a `YX` [NumPy](https://numpy.org/) array.\n",
    "We load the plane ``z, t, c = 0, 0, 0 `` "
   ]
  },
  {
   "cell_type": "code",
   "execution_count": 18,
   "id": "65f1ed2b",
   "metadata": {},
   "outputs": [
    {
     "name": "stdout",
     "output_type": "stream",
     "text": [
      "(210, 253)\n"
     ]
    }
   ],
   "source": [
    "plane = pixels.getPlane(0, 0, 0)\n",
    "# Check the size of the array using the numpy ``shape`` method.\n",
    "print(plane.shape)"
   ]
  },
  {
   "cell_type": "markdown",
   "id": "33396da9",
   "metadata": {},
   "source": [
    "To load multiple planes use ``pixels.getPlanes()``"
   ]
  },
  {
   "cell_type": "code",
   "execution_count": 20,
   "id": "e09dfd5c",
   "metadata": {},
   "outputs": [
    {
     "name": "stdout",
     "output_type": "stream",
     "text": [
      "2\n"
     ]
    }
   ],
   "source": [
    "zct_list = [(0, 0, 0), (1, 0, 0)]\n",
    "planes = pixels.getPlanes(zct_list)\n",
    "print(len(list(planes)))"
   ]
  },
  {
   "cell_type": "markdown",
   "id": "0aa2acde",
   "metadata": {},
   "source": [
    "## Exercise: Load the 5D image as a `TCZYX` numpy array\n",
    "\n",
    "Using the example below. \n",
    "* Create a method `load_numpy_array` taking the image as a parameter\n",
    "* Iterate over the T, C, Z axis and create a list of coordinates\n",
    "* Use the ``getPlanes`` method to load the 2D numpy array.\n",
    "* Use the ``numpy.stack`` method to create an 5D numpy array\n",
    "* Check the dimension order of the 5D numpy array, reshape using `numpy.reshape` to create an array in the order `TCZYX`."
   ]
  },
  {
   "cell_type": "markdown",
   "id": "2e35585c",
   "metadata": {},
   "source": [
    "## Load the 5D array\n",
    "\n",
    "Using the method created in the exercise. We load the binary data as 5D numpy array."
   ]
  },
  {
   "cell_type": "code",
   "execution_count": null,
   "id": "25bd27bf",
   "metadata": {},
   "outputs": [],
   "source": [
    "data = load_numpy_array(image)"
   ]
  },
  {
   "cell_type": "markdown",
   "id": "1fe311e4",
   "metadata": {},
   "source": [
    "## Load StarDist trained model \n",
    "\n",
    "We use an existing trained model from StarDist. The tool was introduced during Day 1."
   ]
  },
  {
   "cell_type": "code",
   "execution_count": 1,
   "id": "7d399b7b",
   "metadata": {},
   "outputs": [
    {
     "name": "stdout",
     "output_type": "stream",
     "text": [
      "Found model '2D_demo' for 'StarDist2D'.\n",
      "Loading network weights from 'weights_best.h5'.\n",
      "Loading thresholds from 'thresholds.json'.\n",
      "Using default values: prob_thresh=0.486166, nms_thresh=0.5.\n"
     ]
    },
    {
     "name": "stderr",
     "output_type": "stream",
     "text": [
      "2022-05-12 10:44:12.372629: I tensorflow/core/platform/cpu_feature_guard.cc:151] This TensorFlow binary is optimized with oneAPI Deep Neural Network Library (oneDNN) to use the following CPU instructions in performance-critical operations:  SSE4.1 SSE4.2\n",
      "To enable them in other operations, rebuild TensorFlow with the appropriate compiler flags.\n"
     ]
    }
   ],
   "source": [
    "from stardist.models import StarDist2D\n",
    "model_versatile = StarDist2D.from_pretrained('2D_demo')"
   ]
  },
  {
   "cell_type": "markdown",
   "id": "c4064b1c",
   "metadata": {},
   "source": [
    "## Prediction based on a default StarDist model\n",
    "\n",
    "Normalize the input image\n",
    "\n",
    "``model_versatile.predict_instances`` will\n",
    "\n",
    " * predict object probabilities and star-convex polygon distances (see model.predict if you want those)\n",
    "* perform non-maximum suppression (with overlap threshold nms_thresh) for polygons above object probability threshold prob_thresh.\n",
    "* render all remaining polygon instances in a label image\n",
    "* return the label instances image and also the details (coordinates, etc.) of all remaining polygons\n",
    "\n",
    "We will analyze the second channel i.e. ``c = 1``. We could have only loaded the second channel. This is left as an exercise to adjust the method above to only load the second channel."
   ]
  },
  {
   "cell_type": "code",
   "execution_count": null,
   "id": "e864a789",
   "metadata": {},
   "outputs": [],
   "source": [
    "# Channel to analyze\n",
    "c = 1\n",
    "from csbdeep.utils import normalize\n",
    "axis_norm = (0,1)\n",
    "img = normalize(data[0, c, :, :, :], 1,99.8, axis=axis_norm)\n",
    "results = []\n",
    "results_details = []\n",
    "for i in range(len(img)):\n",
    "    new_labels, details = model_versatile.predict_instances(img[i])\n",
    "    results_details.append(details)\n",
    "    results.append(new_labels)\n",
    "\n",
    "label_slices = numpy.array(results)"
   ]
  },
  {
   "cell_type": "markdown",
   "id": "8d612ca2",
   "metadata": {},
   "source": [
    "## Load the ROIs from IDR\n",
    "\n",
    "Load the original labels in order to compare them with the StarDist ones Original labels have been saved as mask."
   ]
  },
  {
   "cell_type": "code",
   "execution_count": null,
   "id": "463e47a6",
   "metadata": {},
   "outputs": [],
   "source": [
    "roi_service = conn.getRoiService()\n",
    "result = roi_service.findByImage(image_id, None)\n",
    "\n",
    "shapes = []\n",
    "for roi in result.rois:\n",
    "    shapes.append(roi.copyShapes())"
   ]
  },
  {
   "cell_type": "markdown",
   "id": "4c7c2f1b",
   "metadata": {},
   "source": [
    "To compare the labels, we need to convert the masks into a NumPy array. "
   ]
  },
  {
   "cell_type": "code",
   "execution_count": null,
   "id": "a6b71096",
   "metadata": {},
   "outputs": [],
   "source": [
    "# from omero_zarr import masks\n",
    "dims = (image.getSizeT(), image.getSizeC(), image.getSizeZ(), image.getSizeY(), image.getSizeX())\n",
    "saver = masks.MaskSaver(None, image, numpy.int64)\n",
    "labels, fillColors, properties = saver.masks_to_labels(shapes, mask_shape=dims)"
   ]
  },
  {
   "cell_type": "markdown",
   "id": "8c236cdc",
   "metadata": {},
   "source": [
    "## Compare labels\n",
    "\n",
    "Display the original labels and the labels based on StarDist prediction side-by-side"
   ]
  },
  {
   "cell_type": "code",
   "execution_count": null,
   "id": "473a299b",
   "metadata": {},
   "outputs": [],
   "source": [
    "import matplotlib.pyplot as plt\n",
    "%matplotlib inline\n",
    "from ipywidgets import *\n",
    "\n",
    "def update(z=0):\n",
    "    c = 1\n",
    "    fig = plt.figure(figsize=(10, 10))\n",
    "    plt.subplot(121)\n",
    "    plt.imshow(data[0, c, z, :, :], cmap='jet')\n",
    "    try:\n",
    "        plt.imshow(labels[0, c, z, :, :], cmap='gray', alpha=0.5)\n",
    "    except Exception:\n",
    "        print(z)\n",
    "    plt.subplot(122)\n",
    "    plt.imshow(data[0, c, z, :, :], cmap='gray')\n",
    "    plt.imshow(label_slices[z, :, :], cmap='jet', alpha=0.5)\n",
    "    plt.tight_layout()\n",
    "    fig.canvas.flush_events()\n",
    "\n",
    "interact(update, z= widgets.IntSlider(value=1, min=0, max=data.shape[2]-1, step=1, description=\"Select Z\", continuous_update=False))\n"
   ]
  },
  {
   "cell_type": "markdown",
   "id": "93feeae2",
   "metadata": {},
   "source": [
    "## Close the connection"
   ]
  },
  {
   "cell_type": "code",
   "execution_count": null,
   "id": "b58ac4b4",
   "metadata": {},
   "outputs": [],
   "source": [
    "conn.close()"
   ]
  },
  {
   "cell_type": "markdown",
   "id": "7d68f1fd",
   "metadata": {},
   "source": [
    "## Exercise: Load the data and the labels from S3 \n",
    "\n",
    "The original image has been converted into Zarr and is available on S3.\n",
    "Using approach presented during Day 3, retrieve the data and labels from S3 instead of IDR and compare the output with the StarDist labels."
   ]
  },
  {
   "cell_type": "code",
   "execution_count": null,
   "id": "8c6f1bb4",
   "metadata": {},
   "outputs": [],
   "source": []
  }
 ],
 "metadata": {
  "kernelspec": {
   "display_name": "imaging_course",
   "language": "python",
   "name": "imaging_course"
  },
  "language_info": {
   "codemirror_mode": {
    "name": "ipython",
    "version": 3
   },
   "file_extension": ".py",
   "mimetype": "text/x-python",
   "name": "python",
   "nbconvert_exporter": "python",
   "pygments_lexer": "ipython3",
   "version": "3.9.12"
  }
 },
 "nbformat": 4,
 "nbformat_minor": 5
}
