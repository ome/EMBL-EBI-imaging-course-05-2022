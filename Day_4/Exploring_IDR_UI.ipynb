{
 "cells": [
  {
   "cell_type": "markdown",
   "id": "74780d7d",
   "metadata": {},
   "source": [
    "# Summary\n",
    "\n",
    "1. From publication to IDR study, viewing images and ROIs\n",
    "2. From Gene to phenotypes, orientating in metadata ecosystem\n",
    "3. From metadata to analytics, using metadata to QA the results\n",
    "\n",
    "\n",
    "## Walkthrough \n",
    "\n",
    "### From publication to IDR study, viewing images and ROIs\n",
    "Start from PubMed search engine. Search for three terms, “Blin”, “Lowell” and “segmentation”. First result will be a paper from Blin et al from Sally Lowell’s lab published in PLOS Biology in 2019.\n",
    "\n",
    "Click on the icon in top-right for full text of the paper in PLOS Biology\n",
    "\n",
    "Inside the paper, navigate to the Data availability section and then go from there to the starting page at [IDR homepage](http://idr.openmicroscopy.org/) and search for a “Name (IDR number)”. (the default option). Enter the “62” into the second search box. Accept the suggestion and click on the thumbnail. \n",
    "\n",
    "This gives you all the images contained in the idr0062 study..This workflow shows one of the main uses of IDR for data visibility, Quality Control for publishers and community. \n",
    "\n",
    "In the idr0062 study, on the image http://idr.openmicroscopy.org/webclient/?show=image-6001239 we can see the attached tiff file with ROIs. These ROIs were extracted into OMERO ROIs (masks), which can be seen overlaid onto the images.\n",
    "\n",
    "To see the ROIs, double-click onto the thumbnail of the image in the central pane. This will open the full viewer, called OMERO.iviewer.\n",
    "Select the ROIs tab inside OMERO.iviewer. The mask ROIs will load.\n",
    "\n",
    "Return to OMERO.web in the next tab of your browser.\n",
    "Click on the Experiment (named idr0062-blin-nuclearsegmentation/experimentA)  and expand the “Attributes”' harmonica in the right-hand pane. Find and click on the DOI of the paper link. \n",
    "\n",
    "We will now continue this workflow using [Jupyter notebook](0_Python_API.ipynb) and OMERO API. The other GUI workflows below are for your information only.\n",
    "\n",
    "### From Gene to Phenotypes  (FYI only, not shown)\n",
    "Start from idr.openmicroscopy.org. Select Attribute Gene. Search for KRAS. In the results, find the study idr0033A. This is a gene overexpression study by Rohban et al. Click on the “More.. link in the same line to the right of it. You are navigated into the IDR. Select the image http://idr.openmicroscopy.org/webclient/?show=image-3194247 . \n",
    "Study the right-hand pane and find the “Gene” block in Attributes harmonica. Click on the icon in the Gene Identifier line. This will lead you to NCBI. Go back to the IDR and scroll down in the Attributes. Find the “low cell density” in one of the Phenotype metadata blocks. Click on the CMPO_000052 link underneath it. This navigates to the search results page with all the images associated with this ontology term. Select the top level node in the left-hand side and study the right-hand pane to see the standardization work done on the CMPO_000052 “decreased cell numbers” phenotype. \n",
    "Start typing in the box above the left-hand side pane to search for images associated with other phenotypes inside IDR. \n",
    "Go back to the KRAS search results by clicking the back arrow in your browser. Select one image in central pane, click onto the chain icon in the top of the right-hand pane and copy the link. Paste the link into a new tab of your browser. This navigates you to the full Plate view. The image you were seeing inside the KRAS results is now highlighted in the context of the whole Plate.\n",
    "### From compound to analytics (FYI only, not shown)\n",
    "Start from idr.openmicroscopy.org. Select Attribute Compound. Search for Remdesivir. In the results, the study idr0094B is shown. Click on More… This leads to inside the IDR. Select the first image in the first container.\n",
    "In the right-hand pane, scroll down to Others section of the Attributes harmonica. Note the DPC number and compare with the density of the cells in the thumbnail. The DPC is showing the effectiveness of the Remdesivir compound against the cytotoxic effects of the Sars-Cov-2 virus. The higher the DPC, the more intact the human cell monolayer in the images. Compare this with the Remdesivir concentration, which is to be found in the same Attributes harmonice, above in the Compound supplementary section.\n"
   ]
  }
 ],
 "metadata": {
  "kernelspec": {
   "display_name": "imaging_course",
   "language": "python",
   "name": "imaging_course"
  },
  "language_info": {
   "codemirror_mode": {
    "name": "ipython",
    "version": 3
   },
   "file_extension": ".py",
   "mimetype": "text/x-python",
   "name": "python",
   "nbconvert_exporter": "python",
   "pygments_lexer": "ipython3",
   "version": "3.9.12"
  }
 },
 "nbformat": 4,
 "nbformat_minor": 5
}
